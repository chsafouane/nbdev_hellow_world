{
 "cells": [
  {
   "cell_type": "code",
   "execution_count": null,
   "id": "805453c2",
   "metadata": {},
   "outputs": [],
   "source": [
    "#| default_exp deck"
   ]
  },
  {
   "cell_type": "markdown",
   "id": "33a92b19",
   "metadata": {},
   "source": [
    "# deck - Just a simple deck\n",
    "\n",
    "> A deck of playing cards"
   ]
  },
  {
   "cell_type": "code",
   "execution_count": null,
   "id": "66be6182",
   "metadata": {},
   "outputs": [],
   "source": [
    "#| export\n",
    "from nbdev_hellow_world.card import *\n",
    "from fastcore.utils import *"
   ]
  },
  {
   "cell_type": "code",
   "execution_count": null,
   "id": "4c8b3c7c",
   "metadata": {},
   "outputs": [],
   "source": [
    "#| hide\n",
    "from nbdev.showdoc import *\n",
    "from fastcore.test import *"
   ]
  },
  {
   "cell_type": "code",
   "execution_count": null,
   "id": "959d756e",
   "metadata": {},
   "outputs": [],
   "source": [
    "#| export\n",
    "class Deck:\n",
    "    \"A deck of 52 cards, not including jokers\"\n",
    "    def __init__(self):\n",
    "        self.cards = [Card(s, r) for s in range(4) for r in range(1, 14)]\n",
    "    \n",
    "    def __len__(self): return len(self.cards)\n",
    "    \n",
    "    def __str__(self):\n",
    "        return \";\".join(map(str, self.cards))\n",
    "    \n",
    "    def __contains__(self, card):\n",
    "        return card in self.cards\n",
    "    \n",
    "    __repr__ = __str__"
   ]
  },
  {
   "cell_type": "markdown",
   "id": "536782b7",
   "metadata": {},
   "source": [
    "When we initally create a deck, all of the cards will be present:"
   ]
  },
  {
   "cell_type": "code",
   "execution_count": null,
   "id": "abda2691",
   "metadata": {},
   "outputs": [
    {
     "data": {
      "text/plain": [
       "A♣️;2♣️;3♣️;4♣️;5♣️;6♣️;7♣️;8♣️;9♣️;10♣️;J♣️;Q♣️;K♣️;A♦️;2♦️;3♦️;4♦️;5♦️;6♦️;7♦️;8♦️;9♦️;10♦️;J♦️;Q♦️;K♦️;A❤️;2❤️;3❤️;4❤️;5❤️;6❤️;7❤️;8❤️;9❤️;10❤️;J❤️;Q❤️;K❤️;A♠️;2♠️;3♠️;4♠️;5♠️;6♠️;7♠️;8♠️;9♠️;10♠️;J♠️;Q♠️;K♠️"
      ]
     },
     "execution_count": null,
     "metadata": {},
     "output_type": "execute_result"
    }
   ],
   "source": [
    "deck = Deck()\n",
    "deck"
   ]
  },
  {
   "cell_type": "markdown",
   "id": "a7ecf040",
   "metadata": {},
   "source": [
    "That should be a 52 cards"
   ]
  },
  {
   "cell_type": "code",
   "execution_count": null,
   "id": "c0b62493",
   "metadata": {},
   "outputs": [],
   "source": [
    "test_eq(len(deck), 52)"
   ]
  },
  {
   "cell_type": "markdown",
   "id": "da88232a",
   "metadata": {},
   "source": [
    "As a reminder, these are the suis we defined in `Card`:"
   ]
  },
  {
   "cell_type": "code",
   "execution_count": null,
   "id": "c60f4956",
   "metadata": {},
   "outputs": [
    {
     "data": {
      "text/plain": [
       "['♣️', '♦️', '❤️', '♠️']"
      ]
     },
     "execution_count": null,
     "metadata": {},
     "output_type": "execute_result"
    }
   ],
   "source": [
    "suits"
   ]
  },
  {
   "cell_type": "markdown",
   "id": "28a0778d",
   "metadata": {},
   "source": [
    "We can check if, say , the Ace of Clubs is in the deck:"
   ]
  },
  {
   "cell_type": "code",
   "execution_count": null,
   "id": "c0806c2a",
   "metadata": {},
   "outputs": [
    {
     "data": {
      "text/plain": [
       "True"
      ]
     },
     "execution_count": null,
     "metadata": {},
     "output_type": "execute_result"
    }
   ],
   "source": [
    "Card(1, 1) in deck"
   ]
  },
  {
   "cell_type": "code",
   "execution_count": null,
   "id": "ce126f66",
   "metadata": {},
   "outputs": [],
   "source": [
    "#| export\n",
    "@patch\n",
    "def pop(self: Deck, \n",
    "        idx:int=-1): # The index of the card to remove, defaulting to the last one\n",
    "    \"Remove one card from the deck\"\n",
    "    return self.cards.pop(idx)"
   ]
  },
  {
   "cell_type": "code",
   "execution_count": null,
   "id": "afdffba1",
   "metadata": {},
   "outputs": [],
   "source": [
    "deck = Deck()\n",
    "test_eq(deck.pop(), Card(3, 13)) # K♠️"
   ]
  },
  {
   "cell_type": "markdown",
   "id": "1d63be58",
   "metadata": {},
   "source": [
    "There are 51 cards left in our deck now:"
   ]
  },
  {
   "cell_type": "code",
   "execution_count": null,
   "id": "218918fe",
   "metadata": {},
   "outputs": [],
   "source": [
    "test_eq(len(deck), 51)"
   ]
  },
  {
   "cell_type": "code",
   "execution_count": null,
   "id": "f12dc6d6",
   "metadata": {},
   "outputs": [],
   "source": [
    "#| export\n",
    "@patch\n",
    "def remove(self: Deck,\n",
    "          card: Card): # Card to remove\n",
    "    \"Removes `card`from the deck or raises exception if it is not there\"\n",
    "    self.cards.remove(card)"
   ]
  },
  {
   "cell_type": "code",
   "execution_count": null,
   "id": "85f6282f",
   "metadata": {},
   "outputs": [],
   "source": [
    "card23 = Card(2, 3)\n",
    "deck.remove(card23)\n",
    "assert card23 not in deck"
   ]
  }
 ],
 "metadata": {
  "kernelspec": {
   "display_name": "Python 3 (ipykernel)",
   "language": "python",
   "name": "python3"
  }
 },
 "nbformat": 4,
 "nbformat_minor": 5
}
